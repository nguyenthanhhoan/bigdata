{
 "cells": [
  {
   "cell_type": "code",
   "execution_count": 9,
   "id": "d580d2e2",
   "metadata": {},
   "outputs": [],
   "source": [
    "from pyspark import SparkContext"
   ]
  },
  {
   "cell_type": "code",
   "execution_count": 10,
   "id": "1846a54b",
   "metadata": {},
   "outputs": [],
   "source": [
    "def filter_post_get(line):\n",
    "   command = line.split(\",\")[2].split()[0]\n",
    "   return command in [\"GET\",\"POST\"]"
   ]
  },
  {
   "cell_type": "code",
   "execution_count": 11,
   "id": "85a91d6e",
   "metadata": {},
   "outputs": [],
   "source": [
    "def get_page(line):\n",
    "   page = line.split(\",\")[2].split()[1]\n",
    "   page = page.split(\"?\")[0]\n",
    "   return page"
   ]
  },
  {
   "cell_type": "code",
   "execution_count": 12,
   "id": "c22db0e9",
   "metadata": {},
   "outputs": [],
   "source": [
    "def filter_php(line):\n",
    "   return \".php\" in line"
   ]
  },
  {
   "cell_type": "code",
   "execution_count": 13,
   "id": "cddbd274",
   "metadata": {
    "scrolled": true
   },
   "outputs": [],
   "source": [
    "sc = SparkContext(\"local\", \"first app\")\n",
    "logs = sc.textFile(\"hdfs://localhost:9000/weblog.csv\")"
   ]
  },
  {
   "cell_type": "code",
   "execution_count": 14,
   "id": "c0696d53",
   "metadata": {},
   "outputs": [],
   "source": [
    "logs_filter_get_post = logs.filter(filter_post_get)\n",
    "pages = logs_filter_get_post.map(get_page)\n",
    "pages_php = pages.filter(filter_php)\n",
    "result = pages_php.map(lambda s: (s,1)).reduceByKey(lambda x,y: x+y)"
   ]
  },
  {
   "cell_type": "code",
   "execution_count": 15,
   "id": "88f6e9d0",
   "metadata": {},
   "outputs": [
    {
     "name": "stdout",
     "output_type": "stream",
     "text": [
      "[('/login.php', 3422), ('/process.php', 317), ('/home.php', 2649), ('/profile.php', 147), ('/edit.php', 14), ('/logout.php', 44), ('/contestproblem.php', 556), ('/countdown.php', 73), ('/details.php', 297), ('/compiler.php', 98), ('/contest.php', 249), ('/archive.php', 309), ('/allsubmission.php', 170), ('/showcode.php', 54), ('/index.php', 6), ('/contestsubmission.php', 228), ('/sign.php', 136), ('/action.php', 83), ('/description.php', 124), ('/submit.php', 54), ('/pcompile.php', 80), ('/contestsubmit.php', 53), ('/standings.php', 167), ('/update.php', 7), ('/contestshowcode.php', 6), ('/compile.php', 96), ('/editcontestproblem.php', 12), ('/announcement.php', 8), ('/setproblem.php', 12), ('/setcontest.php', 6), ('/editcontest.php', 3), ('/createadmin.php', 4), ('/setcontestproblem.php', 4), ('//home.php', 1), ('/adminpanel.php', 1)]\n"
     ]
    },
    {
     "name": "stderr",
     "output_type": "stream",
     "text": [
      "\r",
      "[Stage 0:>                                                          (0 + 1) / 1]\r",
      "\r",
      "                                                                                \r"
     ]
    }
   ],
   "source": [
    "print(result.collect())\n",
    "rl = result.sortBy(lambda x: x[1], False)\n",
    "#sc.stop()"
   ]
  },
  {
   "cell_type": "code",
   "execution_count": null,
   "id": "aa1506e5",
   "metadata": {},
   "outputs": [],
   "source": []
  }
 ],
 "metadata": {
  "kernelspec": {
   "display_name": "Python 3 (ipykernel)",
   "language": "python",
   "name": "python3"
  },
  "language_info": {
   "codemirror_mode": {
    "name": "ipython",
    "version": 3
   },
   "file_extension": ".py",
   "mimetype": "text/x-python",
   "name": "python",
   "nbconvert_exporter": "python",
   "pygments_lexer": "ipython3",
   "version": "3.8.10"
  }
 },
 "nbformat": 4,
 "nbformat_minor": 5
}
