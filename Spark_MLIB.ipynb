{
 "cells": [
  {
   "cell_type": "code",
   "execution_count": 1,
   "id": "98e6ac98",
   "metadata": {},
   "outputs": [
    {
     "name": "stderr",
     "output_type": "stream",
     "text": [
      "22/04/29 03:21:39 WARN Utils: Your hostname, ubuntu resolves to a loopback address: 127.0.1.1; using 192.168.228.131 instead (on interface ens33)\n",
      "22/04/29 03:21:39 WARN Utils: Set SPARK_LOCAL_IP if you need to bind to another address\n",
      "Using Spark's default log4j profile: org/apache/spark/log4j-defaults.properties\n",
      "Setting default log level to \"WARN\".\n",
      "To adjust logging level use sc.setLogLevel(newLevel). For SparkR, use setLogLevel(newLevel).\n",
      "22/04/29 03:21:40 WARN NativeCodeLoader: Unable to load native-hadoop library for your platform... using builtin-java classes where applicable\n"
     ]
    }
   ],
   "source": [
    "from pyspark.sql import SparkSession\n",
    "from pyspark.ml.linalg import DenseVector\n",
    "\n",
    "spark = SparkSession.builder.master(\"local\") \\\n",
    "                            .appName(\"appMLiris\") \\\n",
    "                            .config(\"spark.executor.memory\", \"1gb\") \\\n",
    "                            .getOrCreate()\n"
   ]
  },
  {
   "cell_type": "code",
   "execution_count": 5,
   "id": "df3dfcee",
   "metadata": {},
   "outputs": [
    {
     "name": "stderr",
     "output_type": "stream",
     "text": [
      "22/04/29 03:29:51 WARN CSVHeaderChecker: CSV header does not conform to the schema.\n",
      " Header: , Sepal.Length, Sepal.Width, Petal.Length, Petal.Width, Species\n",
      " Schema: _c0, Sepal.Length, Sepal.Width, Petal.Length, Petal.Width, Species\n",
      "Expected: _c0 but found: \n",
      "CSV file: hdfs://localhost:9000/iris_2.csv\n"
     ]
    }
   ],
   "source": [
    "#rdd = sc.textFile('/Users/Storage/Vicohub/Data/Iris.csv’)\n",
    "#df = spark.read.csv('/Users/Storage/Vicohub/Data/Iris.csv', header=True)\n",
    "df = spark.read.csv('hdfs://localhost:9000/iris_2.csv', header=True)\n",
    "input_data = df.rdd.map(lambda x: (DenseVector(x[:4]), x[4]))\n",
    "df1 = spark.createDataFrame(input_data, [\"X\", \"Y\"])"
   ]
  },
  {
   "cell_type": "code",
   "execution_count": 6,
   "id": "b5102144",
   "metadata": {},
   "outputs": [
    {
     "name": "stderr",
     "output_type": "stream",
     "text": [
      "22/04/29 03:29:56 WARN CSVHeaderChecker: CSV header does not conform to the schema.\n",
      " Header: , Sepal.Length, Sepal.Width, Petal.Length, Petal.Width, Species\n",
      " Schema: _c0, Sepal.Length, Sepal.Width, Petal.Length, Petal.Width, Species\n",
      "Expected: _c0 but found: \n",
      "CSV file: hdfs://localhost:9000/iris_2.csv\n",
      "22/04/29 03:29:57 WARN CSVHeaderChecker: CSV header does not conform to the schema.\n",
      " Header: , Sepal.Length, Sepal.Width, Petal.Length, Petal.Width, Species\n",
      " Schema: _c0, Sepal.Length, Sepal.Width, Petal.Length, Petal.Width, Species\n",
      "Expected: _c0 but found: \n",
      "CSV file: hdfs://localhost:9000/iris_2.csv\n",
      "22/04/29 03:29:57 WARN CSVHeaderChecker: CSV header does not conform to the schema.\n",
      " Header: , Sepal.Length, Sepal.Width, Petal.Length, Petal.Width, Species\n",
      " Schema: _c0, Sepal.Length, Sepal.Width, Petal.Length, Petal.Width, Species\n",
      "Expected: _c0 but found: \n",
      "CSV file: hdfs://localhost:9000/iris_2.csv\n",
      "22/04/29 03:29:57 WARN CSVHeaderChecker: CSV header does not conform to the schema.\n",
      " Header: , Sepal.Length, Sepal.Width, Petal.Length, Petal.Width, Species\n",
      " Schema: _c0, Sepal.Length, Sepal.Width, Petal.Length, Petal.Width, Species\n",
      "Expected: _c0 but found: \n",
      "CSV file: hdfs://localhost:9000/iris_2.csv\n",
      "22/04/29 03:29:57 WARN CSVHeaderChecker: CSV header does not conform to the schema.\n",
      " Header: , Sepal.Length, Sepal.Width, Petal.Length, Petal.Width, Species\n",
      " Schema: _c0, Sepal.Length, Sepal.Width, Petal.Length, Petal.Width, Species\n",
      "Expected: _c0 but found: \n",
      "CSV file: hdfs://localhost:9000/iris_2.csv\n"
     ]
    }
   ],
   "source": [
    "from pyspark.ml.feature import StringIndexer\n",
    "from pyspark.ml.classification import RandomForestClassifier\n",
    "indexer = StringIndexer(inputCol=\"Y\", outputCol=\"Yn\")\n",
    "indexed = indexer.fit(df1).transform(df1)\n",
    "(trainingData, testData) = indexed.randomSplit([0.7, 0.3])\n",
    "rf = RandomForestClassifier(labelCol=\"Yn\",\n",
    "featuresCol=\"X\",\n",
    "numTrees=10)\n",
    "model = rf.fit(trainingData)\n",
    "predictions = model.transform(testData)"
   ]
  },
  {
   "cell_type": "code",
   "execution_count": 7,
   "id": "a039f307",
   "metadata": {},
   "outputs": [
    {
     "name": "stdout",
     "output_type": "stream",
     "text": [
      "Test Accuracy = 0.381818\n"
     ]
    },
    {
     "name": "stderr",
     "output_type": "stream",
     "text": [
      "22/04/29 03:30:06 WARN CSVHeaderChecker: CSV header does not conform to the schema.\n",
      " Header: , Sepal.Length, Sepal.Width, Petal.Length, Petal.Width, Species\n",
      " Schema: _c0, Sepal.Length, Sepal.Width, Petal.Length, Petal.Width, Species\n",
      "Expected: _c0 but found: \n",
      "CSV file: hdfs://localhost:9000/iris_2.csv\n"
     ]
    }
   ],
   "source": [
    "from pyspark.ml.evaluation import MulticlassClassificationEvaluator\n",
    "predictions.select(\"Yn\", \"prediction\")\n",
    "evaluator = MulticlassClassificationEvaluator(\n",
    "labelCol=\"Yn\", predictionCol=\"prediction\", metricName=\"accuracy\")\n",
    "accuracy = evaluator.evaluate(predictions)\n",
    "print(\"Test Accuracy = %g\" % (accuracy))"
   ]
  },
  {
   "cell_type": "code",
   "execution_count": null,
   "id": "caeb0f4c",
   "metadata": {},
   "outputs": [],
   "source": []
  }
 ],
 "metadata": {
  "kernelspec": {
   "display_name": "Python 3 (ipykernel)",
   "language": "python",
   "name": "python3"
  },
  "language_info": {
   "codemirror_mode": {
    "name": "ipython",
    "version": 3
   },
   "file_extension": ".py",
   "mimetype": "text/x-python",
   "name": "python",
   "nbconvert_exporter": "python",
   "pygments_lexer": "ipython3",
   "version": "3.8.10"
  }
 },
 "nbformat": 4,
 "nbformat_minor": 5
}
